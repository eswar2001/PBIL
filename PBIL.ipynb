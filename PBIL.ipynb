{
  "nbformat": 4,
  "nbformat_minor": 0,
  "metadata": {
    "kernelspec": {
      "display_name": "Python 3",
      "language": "python",
      "name": "python3"
    },
    "language_info": {
      "codemirror_mode": {
        "name": "ipython",
        "version": 3
      },
      "file_extension": ".py",
      "mimetype": "text/x-python",
      "name": "python",
      "nbconvert_exporter": "python",
      "pygments_lexer": "ipython3",
      "version": "3.8.5"
    },
    "colab": {
      "name": "PBIL.ipynb",
      "provenance": []
    },
    "accelerator": "GPU"
  },
  "cells": [
    {
      "cell_type": "code",
      "metadata": {
        "id": "CnWFdruyVx5w"
      },
      "source": [
        "import numpy as np\n",
        "import math\n",
        "import random\n",
        "import time"
      ],
      "execution_count": null,
      "outputs": []
    },
    {
      "cell_type": "code",
      "metadata": {
        "id": "0dKD3pK2Vx59"
      },
      "source": [
        "class PBIL(object):\n",
        "    def __init__(self,n=5,m=5):\n",
        "        self.PV=np.full((1,m),0.5)\n",
        "        self.n=n\n",
        "        self.m=m\n",
        "        self.imgMAT = np.random.uniform(low=0.0, high=255.0,size=(n,m)) #Should be given through constructor\n",
        "        self.pop = np.random.choice(2,self.n*self.m,self.PV.tolist()).reshape(self.n,self.m)\n",
        "        self.TimgMAT = np.random.uniform(low=0, high=0,size=(n,m)) #given imgMAT to be TRUNC \n",
        "        self.fitness=np.zeros(self.m)\n",
        "        self.best_chromosome_index=-1\n",
        "        self.best_chromosome_list=np.array\n",
        "        self.LR=0.2\n",
        "        self.MS=0.05\n",
        "        \n",
        "    def printData(self):\n",
        "        print('Probability_vector=\\n',self.PV)\n",
        "        print('Population=\\n',self.pop)\n",
        "        print('Image =\\n',self.imgMAT)\n",
        "        print('Translated/Truncated Image =\\n',self.TimgMAT)\n",
        "    \n",
        "    def original_Image_Matrix(self): #embedded watermark\n",
        "        for i in range(self.n):\n",
        "            for j in range(self.m):\n",
        "                self.imgMAT[i][j]=round(self.imgMAT[i][j])\n",
        "    \n",
        "    def translateImg(self):\n",
        "        for i in range(self.n):\n",
        "            for j in range(self.m):\n",
        "                if self.pop[i][j]==1:\n",
        "                    self.TimgMAT[i][j] = math.trunc(self.imgMAT[i][j])+1\n",
        "                else:\n",
        "                    self.TimgMAT[i][j] = math.trunc(self.imgMAT[i][j])\n",
        "    \n",
        "    def calculate_fitness(self):\n",
        "        self.fitness=np.zeros(self.m)\n",
        "        self.original_Image_Matrix()\n",
        "        for i in range(self.n):\n",
        "            for j in range(self.m):\n",
        "                self.fitness[i]+=int(abs(self.TimgMAT[i][j]-round(self.imgMAT[i][j])))\n",
        "        self.best_chromosome_index=np.where(self.fitness == np.amin(self.fitness))\n",
        "        self.best_chromosome_list=[i for i in self.pop[self.best_chromosome_index[0]].tolist()]\n",
        "#         print('Best Chromosomes possible',self.best_chromosome_list)\n",
        "    \n",
        "    def update_PV(self):\n",
        "        Solution_Vector = self.best_chromosome_list[0] \n",
        "        for i in range(len(self.PV)):\n",
        "            self.PV[i]=self.PV[i]*(1-self.LR)+Solution_Vector[i]*self.LR\n",
        "#         print('updated PV',self.PV)\n",
        "        \n",
        "    def mutate_PV(self):\n",
        "        for i in range(len(self.PV)):\n",
        "            self.PV[i]=self.PV[i]*(1-self.MS)+random.randint(0, 1)*self.LR\n",
        "#         print('mutated PV',self.PV)\n",
        "    \n",
        "    def Generate(self):\n",
        "        while(True):\n",
        "            self.pop=np.random.choice(2,self.n*self.m,self.PV.tolist()).reshape(self.n,self.m)\n",
        "            self.translateImg()\n",
        "            self.calculate_fitness()\n",
        "            self.update_PV()\n",
        "            self.mutate_PV()\n",
        "            BC=self.best_chromosome_list\n",
        "            # print(self.fitness,end=\"\")\n",
        "            if len(BC)==self.n and np.amin(self.fitness)<=1:\n",
        "                break\n",
        "        self.printData()\n",
        "        \n",
        "start_time = time.time()   \n",
        "a = PBIL()\n",
        "a.Generate()\n",
        "end_time = time.time()\n",
        "print('time Taken : ',end_time-start_time)"
      ],
      "execution_count": null,
      "outputs": []
    }
  ]
}
